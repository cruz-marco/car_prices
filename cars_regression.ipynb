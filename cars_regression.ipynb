{
 "cells": [
  {
   "cell_type": "code",
   "execution_count": 36,
   "id": "eb2cfc41",
   "metadata": {},
   "outputs": [
    {
     "data": {
      "text/html": [
       "<style>.container {width: 99% !important}</style>"
      ],
      "text/plain": [
       "<IPython.core.display.HTML object>"
      ]
     },
     "metadata": {},
     "output_type": "display_data"
    }
   ],
   "source": [
    "from IPython.display import display, HTML\n",
    "display(HTML('<style>.container {width: 99% !important}</style>'))"
   ]
  },
  {
   "cell_type": "markdown",
   "id": "bf2febb8",
   "metadata": {},
   "source": [
    "# 1.0 Recebendo os dados"
   ]
  },
  {
   "cell_type": "markdown",
   "id": "e3f94c4a",
   "metadata": {},
   "source": [
    "## 1.1 Importe das bibliotecas"
   ]
  },
  {
   "cell_type": "code",
   "execution_count": 2,
   "id": "e77882b5",
   "metadata": {},
   "outputs": [],
   "source": [
    "import pandas as pd\n",
    "import matplotlib.pyplot as plt\n",
    "import seaborn as sns\n",
    "import numpy as np\n",
    "from sklearn.metrics import r2_score, mean_squared_error\n",
    "from sklearn.model_selection import train_test_split\n",
    "from sklearn.linear_model import LinearRegression\n",
    "from sklearn.tree import DecisionTreeRegressor\n",
    "from scipy.stats import kstest"
   ]
  },
  {
   "cell_type": "markdown",
   "id": "4197c67e",
   "metadata": {},
   "source": [
    "## 1.2 Montagem do DataFrame principal"
   ]
  },
  {
   "cell_type": "code",
   "execution_count": 3,
   "id": "87026bcc",
   "metadata": {},
   "outputs": [],
   "source": [
    "df = pd.read_csv('https://raw.githubusercontent.com/rmadan16/LinearRegression_CarPrice/master/CarPrice_Assignment.csv')"
   ]
  },
  {
   "cell_type": "code",
   "execution_count": 4,
   "id": "8cab2e7c",
   "metadata": {},
   "outputs": [
    {
     "data": {
      "text/html": [
       "<div>\n",
       "<style scoped>\n",
       "    .dataframe tbody tr th:only-of-type {\n",
       "        vertical-align: middle;\n",
       "    }\n",
       "\n",
       "    .dataframe tbody tr th {\n",
       "        vertical-align: top;\n",
       "    }\n",
       "\n",
       "    .dataframe thead th {\n",
       "        text-align: right;\n",
       "    }\n",
       "</style>\n",
       "<table border=\"1\" class=\"dataframe\">\n",
       "  <thead>\n",
       "    <tr style=\"text-align: right;\">\n",
       "      <th></th>\n",
       "      <th>car_ID</th>\n",
       "      <th>symboling</th>\n",
       "      <th>CarName</th>\n",
       "      <th>fueltype</th>\n",
       "      <th>aspiration</th>\n",
       "      <th>doornumber</th>\n",
       "      <th>carbody</th>\n",
       "      <th>drivewheel</th>\n",
       "      <th>enginelocation</th>\n",
       "      <th>wheelbase</th>\n",
       "      <th>...</th>\n",
       "      <th>enginesize</th>\n",
       "      <th>fuelsystem</th>\n",
       "      <th>boreratio</th>\n",
       "      <th>stroke</th>\n",
       "      <th>compressionratio</th>\n",
       "      <th>horsepower</th>\n",
       "      <th>peakrpm</th>\n",
       "      <th>citympg</th>\n",
       "      <th>highwaympg</th>\n",
       "      <th>price</th>\n",
       "    </tr>\n",
       "  </thead>\n",
       "  <tbody>\n",
       "    <tr>\n",
       "      <th>0</th>\n",
       "      <td>1</td>\n",
       "      <td>3</td>\n",
       "      <td>alfa-romero giulia</td>\n",
       "      <td>gas</td>\n",
       "      <td>std</td>\n",
       "      <td>two</td>\n",
       "      <td>convertible</td>\n",
       "      <td>rwd</td>\n",
       "      <td>front</td>\n",
       "      <td>88.6</td>\n",
       "      <td>...</td>\n",
       "      <td>130</td>\n",
       "      <td>mpfi</td>\n",
       "      <td>3.47</td>\n",
       "      <td>2.68</td>\n",
       "      <td>9.0</td>\n",
       "      <td>111</td>\n",
       "      <td>5000</td>\n",
       "      <td>21</td>\n",
       "      <td>27</td>\n",
       "      <td>13495.0</td>\n",
       "    </tr>\n",
       "    <tr>\n",
       "      <th>1</th>\n",
       "      <td>2</td>\n",
       "      <td>3</td>\n",
       "      <td>alfa-romero stelvio</td>\n",
       "      <td>gas</td>\n",
       "      <td>std</td>\n",
       "      <td>two</td>\n",
       "      <td>convertible</td>\n",
       "      <td>rwd</td>\n",
       "      <td>front</td>\n",
       "      <td>88.6</td>\n",
       "      <td>...</td>\n",
       "      <td>130</td>\n",
       "      <td>mpfi</td>\n",
       "      <td>3.47</td>\n",
       "      <td>2.68</td>\n",
       "      <td>9.0</td>\n",
       "      <td>111</td>\n",
       "      <td>5000</td>\n",
       "      <td>21</td>\n",
       "      <td>27</td>\n",
       "      <td>16500.0</td>\n",
       "    </tr>\n",
       "    <tr>\n",
       "      <th>2</th>\n",
       "      <td>3</td>\n",
       "      <td>1</td>\n",
       "      <td>alfa-romero Quadrifoglio</td>\n",
       "      <td>gas</td>\n",
       "      <td>std</td>\n",
       "      <td>two</td>\n",
       "      <td>hatchback</td>\n",
       "      <td>rwd</td>\n",
       "      <td>front</td>\n",
       "      <td>94.5</td>\n",
       "      <td>...</td>\n",
       "      <td>152</td>\n",
       "      <td>mpfi</td>\n",
       "      <td>2.68</td>\n",
       "      <td>3.47</td>\n",
       "      <td>9.0</td>\n",
       "      <td>154</td>\n",
       "      <td>5000</td>\n",
       "      <td>19</td>\n",
       "      <td>26</td>\n",
       "      <td>16500.0</td>\n",
       "    </tr>\n",
       "    <tr>\n",
       "      <th>3</th>\n",
       "      <td>4</td>\n",
       "      <td>2</td>\n",
       "      <td>audi 100 ls</td>\n",
       "      <td>gas</td>\n",
       "      <td>std</td>\n",
       "      <td>four</td>\n",
       "      <td>sedan</td>\n",
       "      <td>fwd</td>\n",
       "      <td>front</td>\n",
       "      <td>99.8</td>\n",
       "      <td>...</td>\n",
       "      <td>109</td>\n",
       "      <td>mpfi</td>\n",
       "      <td>3.19</td>\n",
       "      <td>3.40</td>\n",
       "      <td>10.0</td>\n",
       "      <td>102</td>\n",
       "      <td>5500</td>\n",
       "      <td>24</td>\n",
       "      <td>30</td>\n",
       "      <td>13950.0</td>\n",
       "    </tr>\n",
       "    <tr>\n",
       "      <th>4</th>\n",
       "      <td>5</td>\n",
       "      <td>2</td>\n",
       "      <td>audi 100ls</td>\n",
       "      <td>gas</td>\n",
       "      <td>std</td>\n",
       "      <td>four</td>\n",
       "      <td>sedan</td>\n",
       "      <td>4wd</td>\n",
       "      <td>front</td>\n",
       "      <td>99.4</td>\n",
       "      <td>...</td>\n",
       "      <td>136</td>\n",
       "      <td>mpfi</td>\n",
       "      <td>3.19</td>\n",
       "      <td>3.40</td>\n",
       "      <td>8.0</td>\n",
       "      <td>115</td>\n",
       "      <td>5500</td>\n",
       "      <td>18</td>\n",
       "      <td>22</td>\n",
       "      <td>17450.0</td>\n",
       "    </tr>\n",
       "  </tbody>\n",
       "</table>\n",
       "<p>5 rows × 26 columns</p>\n",
       "</div>"
      ],
      "text/plain": [
       "   car_ID  symboling                   CarName fueltype aspiration doornumber  \\\n",
       "0       1          3        alfa-romero giulia      gas        std        two   \n",
       "1       2          3       alfa-romero stelvio      gas        std        two   \n",
       "2       3          1  alfa-romero Quadrifoglio      gas        std        two   \n",
       "3       4          2               audi 100 ls      gas        std       four   \n",
       "4       5          2                audi 100ls      gas        std       four   \n",
       "\n",
       "       carbody drivewheel enginelocation  wheelbase  ...  enginesize  \\\n",
       "0  convertible        rwd          front       88.6  ...         130   \n",
       "1  convertible        rwd          front       88.6  ...         130   \n",
       "2    hatchback        rwd          front       94.5  ...         152   \n",
       "3        sedan        fwd          front       99.8  ...         109   \n",
       "4        sedan        4wd          front       99.4  ...         136   \n",
       "\n",
       "   fuelsystem  boreratio  stroke compressionratio horsepower  peakrpm citympg  \\\n",
       "0        mpfi       3.47    2.68              9.0        111     5000      21   \n",
       "1        mpfi       3.47    2.68              9.0        111     5000      21   \n",
       "2        mpfi       2.68    3.47              9.0        154     5000      19   \n",
       "3        mpfi       3.19    3.40             10.0        102     5500      24   \n",
       "4        mpfi       3.19    3.40              8.0        115     5500      18   \n",
       "\n",
       "   highwaympg    price  \n",
       "0          27  13495.0  \n",
       "1          27  16500.0  \n",
       "2          26  16500.0  \n",
       "3          30  13950.0  \n",
       "4          22  17450.0  \n",
       "\n",
       "[5 rows x 26 columns]"
      ]
     },
     "metadata": {},
     "output_type": "display_data"
    }
   ],
   "source": [
    "display(df.head())"
   ]
  },
  {
   "cell_type": "markdown",
   "id": "363a8079",
   "metadata": {},
   "source": [
    "## 1.3 Observar o describe do DataFrame"
   ]
  },
  {
   "cell_type": "code",
   "execution_count": 5,
   "id": "b84c8202",
   "metadata": {},
   "outputs": [
    {
     "data": {
      "text/html": [
       "<div>\n",
       "<style scoped>\n",
       "    .dataframe tbody tr th:only-of-type {\n",
       "        vertical-align: middle;\n",
       "    }\n",
       "\n",
       "    .dataframe tbody tr th {\n",
       "        vertical-align: top;\n",
       "    }\n",
       "\n",
       "    .dataframe thead th {\n",
       "        text-align: right;\n",
       "    }\n",
       "</style>\n",
       "<table border=\"1\" class=\"dataframe\">\n",
       "  <thead>\n",
       "    <tr style=\"text-align: right;\">\n",
       "      <th></th>\n",
       "      <th>count</th>\n",
       "      <th>mean</th>\n",
       "      <th>std</th>\n",
       "      <th>min</th>\n",
       "      <th>5%</th>\n",
       "      <th>15%</th>\n",
       "      <th>25%</th>\n",
       "      <th>45%</th>\n",
       "      <th>50%</th>\n",
       "      <th>65%</th>\n",
       "      <th>75%</th>\n",
       "      <th>90%</th>\n",
       "      <th>99%</th>\n",
       "      <th>max</th>\n",
       "    </tr>\n",
       "  </thead>\n",
       "  <tbody>\n",
       "    <tr>\n",
       "      <th>car_ID</th>\n",
       "      <td>205.0</td>\n",
       "      <td>103.000000</td>\n",
       "      <td>59.322565</td>\n",
       "      <td>1.00</td>\n",
       "      <td>11.20</td>\n",
       "      <td>31.60</td>\n",
       "      <td>52.00</td>\n",
       "      <td>92.800</td>\n",
       "      <td>103.00</td>\n",
       "      <td>133.60</td>\n",
       "      <td>154.00</td>\n",
       "      <td>184.600</td>\n",
       "      <td>202.960</td>\n",
       "      <td>205.00</td>\n",
       "    </tr>\n",
       "    <tr>\n",
       "      <th>symboling</th>\n",
       "      <td>205.0</td>\n",
       "      <td>0.834146</td>\n",
       "      <td>1.245307</td>\n",
       "      <td>-2.00</td>\n",
       "      <td>-1.00</td>\n",
       "      <td>0.00</td>\n",
       "      <td>0.00</td>\n",
       "      <td>0.800</td>\n",
       "      <td>1.00</td>\n",
       "      <td>1.00</td>\n",
       "      <td>2.00</td>\n",
       "      <td>3.000</td>\n",
       "      <td>3.000</td>\n",
       "      <td>3.00</td>\n",
       "    </tr>\n",
       "    <tr>\n",
       "      <th>wheelbase</th>\n",
       "      <td>205.0</td>\n",
       "      <td>98.756585</td>\n",
       "      <td>6.021776</td>\n",
       "      <td>86.60</td>\n",
       "      <td>93.02</td>\n",
       "      <td>93.70</td>\n",
       "      <td>94.50</td>\n",
       "      <td>96.500</td>\n",
       "      <td>97.00</td>\n",
       "      <td>99.10</td>\n",
       "      <td>102.40</td>\n",
       "      <td>107.900</td>\n",
       "      <td>115.544</td>\n",
       "      <td>120.90</td>\n",
       "    </tr>\n",
       "    <tr>\n",
       "      <th>carlength</th>\n",
       "      <td>205.0</td>\n",
       "      <td>174.049268</td>\n",
       "      <td>12.337289</td>\n",
       "      <td>141.10</td>\n",
       "      <td>157.14</td>\n",
       "      <td>158.98</td>\n",
       "      <td>166.30</td>\n",
       "      <td>172.000</td>\n",
       "      <td>173.20</td>\n",
       "      <td>176.72</td>\n",
       "      <td>183.10</td>\n",
       "      <td>188.800</td>\n",
       "      <td>202.480</td>\n",
       "      <td>208.10</td>\n",
       "    </tr>\n",
       "    <tr>\n",
       "      <th>carwidth</th>\n",
       "      <td>205.0</td>\n",
       "      <td>65.907805</td>\n",
       "      <td>2.145204</td>\n",
       "      <td>60.30</td>\n",
       "      <td>63.60</td>\n",
       "      <td>63.80</td>\n",
       "      <td>64.10</td>\n",
       "      <td>65.400</td>\n",
       "      <td>65.50</td>\n",
       "      <td>66.50</td>\n",
       "      <td>66.90</td>\n",
       "      <td>68.640</td>\n",
       "      <td>71.700</td>\n",
       "      <td>72.30</td>\n",
       "    </tr>\n",
       "    <tr>\n",
       "      <th>carheight</th>\n",
       "      <td>205.0</td>\n",
       "      <td>53.724878</td>\n",
       "      <td>2.443522</td>\n",
       "      <td>47.80</td>\n",
       "      <td>49.70</td>\n",
       "      <td>50.80</td>\n",
       "      <td>52.00</td>\n",
       "      <td>53.500</td>\n",
       "      <td>54.10</td>\n",
       "      <td>54.86</td>\n",
       "      <td>55.50</td>\n",
       "      <td>56.620</td>\n",
       "      <td>59.100</td>\n",
       "      <td>59.80</td>\n",
       "    </tr>\n",
       "    <tr>\n",
       "      <th>curbweight</th>\n",
       "      <td>205.0</td>\n",
       "      <td>2555.565854</td>\n",
       "      <td>520.680204</td>\n",
       "      <td>1488.00</td>\n",
       "      <td>1901.00</td>\n",
       "      <td>1998.00</td>\n",
       "      <td>2145.00</td>\n",
       "      <td>2385.000</td>\n",
       "      <td>2414.00</td>\n",
       "      <td>2712.40</td>\n",
       "      <td>2935.00</td>\n",
       "      <td>3230.000</td>\n",
       "      <td>3948.000</td>\n",
       "      <td>4066.00</td>\n",
       "    </tr>\n",
       "    <tr>\n",
       "      <th>enginesize</th>\n",
       "      <td>205.0</td>\n",
       "      <td>126.907317</td>\n",
       "      <td>41.642693</td>\n",
       "      <td>61.00</td>\n",
       "      <td>90.00</td>\n",
       "      <td>92.00</td>\n",
       "      <td>97.00</td>\n",
       "      <td>110.000</td>\n",
       "      <td>120.00</td>\n",
       "      <td>130.00</td>\n",
       "      <td>141.00</td>\n",
       "      <td>181.000</td>\n",
       "      <td>302.160</td>\n",
       "      <td>326.00</td>\n",
       "    </tr>\n",
       "    <tr>\n",
       "      <th>boreratio</th>\n",
       "      <td>205.0</td>\n",
       "      <td>3.329756</td>\n",
       "      <td>0.270844</td>\n",
       "      <td>2.54</td>\n",
       "      <td>2.97</td>\n",
       "      <td>3.03</td>\n",
       "      <td>3.15</td>\n",
       "      <td>3.270</td>\n",
       "      <td>3.31</td>\n",
       "      <td>3.46</td>\n",
       "      <td>3.58</td>\n",
       "      <td>3.672</td>\n",
       "      <td>3.800</td>\n",
       "      <td>3.94</td>\n",
       "    </tr>\n",
       "    <tr>\n",
       "      <th>stroke</th>\n",
       "      <td>205.0</td>\n",
       "      <td>3.255415</td>\n",
       "      <td>0.313597</td>\n",
       "      <td>2.07</td>\n",
       "      <td>2.64</td>\n",
       "      <td>3.03</td>\n",
       "      <td>3.11</td>\n",
       "      <td>3.255</td>\n",
       "      <td>3.29</td>\n",
       "      <td>3.40</td>\n",
       "      <td>3.41</td>\n",
       "      <td>3.540</td>\n",
       "      <td>3.900</td>\n",
       "      <td>4.17</td>\n",
       "    </tr>\n",
       "    <tr>\n",
       "      <th>compressionratio</th>\n",
       "      <td>205.0</td>\n",
       "      <td>10.142537</td>\n",
       "      <td>3.972040</td>\n",
       "      <td>7.00</td>\n",
       "      <td>7.50</td>\n",
       "      <td>8.30</td>\n",
       "      <td>8.60</td>\n",
       "      <td>9.000</td>\n",
       "      <td>9.00</td>\n",
       "      <td>9.30</td>\n",
       "      <td>9.40</td>\n",
       "      <td>10.940</td>\n",
       "      <td>23.000</td>\n",
       "      <td>23.00</td>\n",
       "    </tr>\n",
       "    <tr>\n",
       "      <th>horsepower</th>\n",
       "      <td>205.0</td>\n",
       "      <td>104.117073</td>\n",
       "      <td>39.544167</td>\n",
       "      <td>48.00</td>\n",
       "      <td>62.00</td>\n",
       "      <td>68.00</td>\n",
       "      <td>70.00</td>\n",
       "      <td>90.000</td>\n",
       "      <td>95.00</td>\n",
       "      <td>110.60</td>\n",
       "      <td>116.00</td>\n",
       "      <td>160.000</td>\n",
       "      <td>207.000</td>\n",
       "      <td>288.00</td>\n",
       "    </tr>\n",
       "    <tr>\n",
       "      <th>peakrpm</th>\n",
       "      <td>205.0</td>\n",
       "      <td>5125.121951</td>\n",
       "      <td>476.985643</td>\n",
       "      <td>4150.00</td>\n",
       "      <td>4250.00</td>\n",
       "      <td>4750.00</td>\n",
       "      <td>4800.00</td>\n",
       "      <td>5000.000</td>\n",
       "      <td>5200.00</td>\n",
       "      <td>5400.00</td>\n",
       "      <td>5500.00</td>\n",
       "      <td>5780.000</td>\n",
       "      <td>6000.000</td>\n",
       "      <td>6600.00</td>\n",
       "    </tr>\n",
       "    <tr>\n",
       "      <th>citympg</th>\n",
       "      <td>205.0</td>\n",
       "      <td>25.219512</td>\n",
       "      <td>6.542142</td>\n",
       "      <td>13.00</td>\n",
       "      <td>16.00</td>\n",
       "      <td>19.00</td>\n",
       "      <td>19.00</td>\n",
       "      <td>24.000</td>\n",
       "      <td>24.00</td>\n",
       "      <td>27.00</td>\n",
       "      <td>30.00</td>\n",
       "      <td>31.600</td>\n",
       "      <td>44.720</td>\n",
       "      <td>49.00</td>\n",
       "    </tr>\n",
       "    <tr>\n",
       "      <th>highwaympg</th>\n",
       "      <td>205.0</td>\n",
       "      <td>30.751220</td>\n",
       "      <td>6.886443</td>\n",
       "      <td>16.00</td>\n",
       "      <td>22.00</td>\n",
       "      <td>24.00</td>\n",
       "      <td>25.00</td>\n",
       "      <td>30.000</td>\n",
       "      <td>30.00</td>\n",
       "      <td>33.00</td>\n",
       "      <td>34.00</td>\n",
       "      <td>38.000</td>\n",
       "      <td>49.880</td>\n",
       "      <td>54.00</td>\n",
       "    </tr>\n",
       "    <tr>\n",
       "      <th>price</th>\n",
       "      <td>205.0</td>\n",
       "      <td>13276.710571</td>\n",
       "      <td>7988.852332</td>\n",
       "      <td>5118.00</td>\n",
       "      <td>6197.00</td>\n",
       "      <td>6968.60</td>\n",
       "      <td>7788.00</td>\n",
       "      <td>9621.000</td>\n",
       "      <td>10295.00</td>\n",
       "      <td>13499.00</td>\n",
       "      <td>16503.00</td>\n",
       "      <td>22563.000</td>\n",
       "      <td>40802.720</td>\n",
       "      <td>45400.00</td>\n",
       "    </tr>\n",
       "  </tbody>\n",
       "</table>\n",
       "</div>"
      ],
      "text/plain": [
       "                  count          mean          std      min       5%      15%  \\\n",
       "car_ID            205.0    103.000000    59.322565     1.00    11.20    31.60   \n",
       "symboling         205.0      0.834146     1.245307    -2.00    -1.00     0.00   \n",
       "wheelbase         205.0     98.756585     6.021776    86.60    93.02    93.70   \n",
       "carlength         205.0    174.049268    12.337289   141.10   157.14   158.98   \n",
       "carwidth          205.0     65.907805     2.145204    60.30    63.60    63.80   \n",
       "carheight         205.0     53.724878     2.443522    47.80    49.70    50.80   \n",
       "curbweight        205.0   2555.565854   520.680204  1488.00  1901.00  1998.00   \n",
       "enginesize        205.0    126.907317    41.642693    61.00    90.00    92.00   \n",
       "boreratio         205.0      3.329756     0.270844     2.54     2.97     3.03   \n",
       "stroke            205.0      3.255415     0.313597     2.07     2.64     3.03   \n",
       "compressionratio  205.0     10.142537     3.972040     7.00     7.50     8.30   \n",
       "horsepower        205.0    104.117073    39.544167    48.00    62.00    68.00   \n",
       "peakrpm           205.0   5125.121951   476.985643  4150.00  4250.00  4750.00   \n",
       "citympg           205.0     25.219512     6.542142    13.00    16.00    19.00   \n",
       "highwaympg        205.0     30.751220     6.886443    16.00    22.00    24.00   \n",
       "price             205.0  13276.710571  7988.852332  5118.00  6197.00  6968.60   \n",
       "\n",
       "                      25%       45%       50%       65%       75%        90%  \\\n",
       "car_ID              52.00    92.800    103.00    133.60    154.00    184.600   \n",
       "symboling            0.00     0.800      1.00      1.00      2.00      3.000   \n",
       "wheelbase           94.50    96.500     97.00     99.10    102.40    107.900   \n",
       "carlength          166.30   172.000    173.20    176.72    183.10    188.800   \n",
       "carwidth            64.10    65.400     65.50     66.50     66.90     68.640   \n",
       "carheight           52.00    53.500     54.10     54.86     55.50     56.620   \n",
       "curbweight        2145.00  2385.000   2414.00   2712.40   2935.00   3230.000   \n",
       "enginesize          97.00   110.000    120.00    130.00    141.00    181.000   \n",
       "boreratio            3.15     3.270      3.31      3.46      3.58      3.672   \n",
       "stroke               3.11     3.255      3.29      3.40      3.41      3.540   \n",
       "compressionratio     8.60     9.000      9.00      9.30      9.40     10.940   \n",
       "horsepower          70.00    90.000     95.00    110.60    116.00    160.000   \n",
       "peakrpm           4800.00  5000.000   5200.00   5400.00   5500.00   5780.000   \n",
       "citympg             19.00    24.000     24.00     27.00     30.00     31.600   \n",
       "highwaympg          25.00    30.000     30.00     33.00     34.00     38.000   \n",
       "price             7788.00  9621.000  10295.00  13499.00  16503.00  22563.000   \n",
       "\n",
       "                        99%       max  \n",
       "car_ID              202.960    205.00  \n",
       "symboling             3.000      3.00  \n",
       "wheelbase           115.544    120.90  \n",
       "carlength           202.480    208.10  \n",
       "carwidth             71.700     72.30  \n",
       "carheight            59.100     59.80  \n",
       "curbweight         3948.000   4066.00  \n",
       "enginesize          302.160    326.00  \n",
       "boreratio             3.800      3.94  \n",
       "stroke                3.900      4.17  \n",
       "compressionratio     23.000     23.00  \n",
       "horsepower          207.000    288.00  \n",
       "peakrpm            6000.000   6600.00  \n",
       "citympg              44.720     49.00  \n",
       "highwaympg           49.880     54.00  \n",
       "price             40802.720  45400.00  "
      ]
     },
     "execution_count": 5,
     "metadata": {},
     "output_type": "execute_result"
    }
   ],
   "source": [
    "df.describe(percentiles=[0.05, 0.15, 0.25, 0.45, 0.5, 0.65, 0.75, 0.9, 0.99]).T"
   ]
  },
  {
   "cell_type": "code",
   "execution_count": 6,
   "id": "c16d90da",
   "metadata": {},
   "outputs": [
    {
     "name": "stdout",
     "output_type": "stream",
     "text": [
      "car_ID, symboling, CarName, fueltype, aspiration, doornumber, carbody, drivewheel, enginelocation, wheelbase, carlength, carwidth, carheight, curbweight, enginetype, cylindernumber, enginesize, fuelsystem, boreratio, stroke, compressionratio, horsepower, peakrpm, citympg, highwaympg, price\n"
     ]
    }
   ],
   "source": [
    "print(*df.columns, sep=', ')"
   ]
  },
  {
   "cell_type": "code",
   "execution_count": 7,
   "id": "d19b4aa8",
   "metadata": {},
   "outputs": [
    {
     "name": "stdout",
     "output_type": "stream",
     "text": [
      "<class 'pandas.core.frame.DataFrame'>\n",
      "RangeIndex: 205 entries, 0 to 204\n",
      "Data columns (total 26 columns):\n",
      " #   Column            Non-Null Count  Dtype  \n",
      "---  ------            --------------  -----  \n",
      " 0   car_ID            205 non-null    int64  \n",
      " 1   symboling         205 non-null    int64  \n",
      " 2   CarName           205 non-null    object \n",
      " 3   fueltype          205 non-null    object \n",
      " 4   aspiration        205 non-null    object \n",
      " 5   doornumber        205 non-null    object \n",
      " 6   carbody           205 non-null    object \n",
      " 7   drivewheel        205 non-null    object \n",
      " 8   enginelocation    205 non-null    object \n",
      " 9   wheelbase         205 non-null    float64\n",
      " 10  carlength         205 non-null    float64\n",
      " 11  carwidth          205 non-null    float64\n",
      " 12  carheight         205 non-null    float64\n",
      " 13  curbweight        205 non-null    int64  \n",
      " 14  enginetype        205 non-null    object \n",
      " 15  cylindernumber    205 non-null    object \n",
      " 16  enginesize        205 non-null    int64  \n",
      " 17  fuelsystem        205 non-null    object \n",
      " 18  boreratio         205 non-null    float64\n",
      " 19  stroke            205 non-null    float64\n",
      " 20  compressionratio  205 non-null    float64\n",
      " 21  horsepower        205 non-null    int64  \n",
      " 22  peakrpm           205 non-null    int64  \n",
      " 23  citympg           205 non-null    int64  \n",
      " 24  highwaympg        205 non-null    int64  \n",
      " 25  price             205 non-null    float64\n",
      "dtypes: float64(8), int64(8), object(10)\n",
      "memory usage: 41.8+ KB\n"
     ]
    }
   ],
   "source": [
    "df.info()"
   ]
  },
  {
   "cell_type": "markdown",
   "id": "34b0d69c",
   "metadata": {},
   "source": [
    "## 1.4 Estudo das variáveis\n",
    "\n",
    "| Variável         | Tipo de dado | Descrição                                                            |\n",
    "|------------------|--------------|----------------------------------------------------------------------|\n",
    "| car_ID           | Integer      | Numero de identificacao unico do carro                               |\n",
    "| symboling        | Integer      | categorizacao do risco de sinistro (-3 seguro até 3 perigoso)        |\n",
    "| CarName          | String       | Nome do fabricante e do modelo do carro.                             |\n",
    "| fueltype         | String       | Tipo de combustível                                                  |\n",
    "| aspiration       | String       | Sobrealimentação (turbo, supercharger ou aspirado)                   |\n",
    "| doornumber       | String       | Número de portas                                                     |\n",
    "| carbody          | String       | Tipo de carroceria                                                   |\n",
    "| drivewheel       | String       | Distribuição da tração                                               |\n",
    "| enginelocation   | String       | Localização do motor                                                 |\n",
    "| wheelbase        | Float        | Distância entre eixos                                                |\n",
    "| carlength        | Float        | Comprimento do carro                                                 |\n",
    "| carwidth         | Float        | Largura do carro                                                     |\n",
    "| carheight        | Float        | Altura do carro                                                      |\n",
    "| curbweight       | Float        | Peso do carro com o tanque cheio e acessórios padrão                 |\n",
    "| enginetype       | String       | Tipo de motor                                                        |\n",
    "| cylindernumber   | String       | Quantidade de cilindros                                              |\n",
    "| enginesize       | Integer      | Tamanho do motor                                                     |\n",
    "| fuelsystem       | String       | Sistema de alimentação de combustível                                |\n",
    "| boreratio        | Float        | Razão entre o diâmetro do cilindro e curso de deslocamento do pistão |\n",
    "| stroke           | Float        | Curso de deslocamento do pistão                                      |\n",
    "| compressionratio | Float        | Razão de compressão do motor                                         |\n",
    "| horsepower       | Integer      | Potência em cavalos do motor                                         |\n",
    "| peakrpm          | Integer      | Rotação máxima do motor                                              |\n",
    "| citympg          | Integer      | Consumo na cidade                                                    |\n",
    "| highwaympg       | Integer      | Consumo na rodovia                                                   |\n",
    "| price            | Float        | TARGET: Preço do carro                                               |"
   ]
  },
  {
   "cell_type": "markdown",
   "id": "77b71586",
   "metadata": {},
   "source": [
    "# 2.0 Analisando os dados"
   ]
  },
  {
   "cell_type": "markdown",
   "id": "a17e1af7",
   "metadata": {},
   "source": [
    "## 2.1 Analisando as variáveis numéricas"
   ]
  },
  {
   "cell_type": "markdown",
   "id": "c91cd88f",
   "metadata": {},
   "source": [
    "### 2.1.1 Analisando variáveis categóriacas que podem ser numéricas"
   ]
  },
  {
   "cell_type": "code",
   "execution_count": 8,
   "id": "4c9963d1",
   "metadata": {},
   "outputs": [
    {
     "name": "stdout",
     "output_type": "stream",
     "text": [
      "('doornumber', 2, ('two', 'four'))\n",
      "('cylindernumber', 7, ('four', 'six', 'five', 'three', 'twelve', 'two', 'eight'))\n"
     ]
    }
   ],
   "source": [
    "var_cat_num = tuple('doornumber cylindernumber'.split())\n",
    "\n",
    "val_uniq = list()\n",
    "\n",
    "for variable in var_cat_num:\n",
    "    uniq_tup = tuple(df[variable].unique())\n",
    "    val_uniq.append((variable, len(uniq_tup), uniq_tup))\n",
    "\n",
    "print(*val_uniq, sep='\\n')"
   ]
  },
  {
   "cell_type": "markdown",
   "id": "3b04baeb",
   "metadata": {},
   "source": [
    "As duas variáveis possuem valores categóricos, mas podem ser traduzidos em números.\n",
    "Podemos fazer um mapping para sanar este problema antes de plotarmos os gráficos."
   ]
  },
  {
   "cell_type": "code",
   "execution_count": 9,
   "id": "c63b238b",
   "metadata": {},
   "outputs": [],
   "source": [
    "#Mudando os valores string por valores numéricos\n",
    "\n",
    "df['doornumber'] = df['doornumber'].map({'two': 2, 'four': 4})\n",
    "df['cylindernumber'] = df['cylindernumber'].map({'four': 4, 'six': 6, 'five': 5, 'three': 3,\n",
    "                                                 'twelve': 12, 'two': 2, 'eight': 8})"
   ]
  },
  {
   "cell_type": "code",
   "execution_count": 10,
   "id": "29d541fa",
   "metadata": {},
   "outputs": [
    {
     "name": "stdout",
     "output_type": "stream",
     "text": [
      "<class 'pandas.core.frame.DataFrame'>\n",
      "RangeIndex: 205 entries, 0 to 204\n",
      "Data columns (total 2 columns):\n",
      " #   Column          Non-Null Count  Dtype\n",
      "---  ------          --------------  -----\n",
      " 0   doornumber      205 non-null    int64\n",
      " 1   cylindernumber  205 non-null    int64\n",
      "dtypes: int64(2)\n",
      "memory usage: 3.3 KB\n"
     ]
    }
   ],
   "source": [
    "df[list(var_cat_num)].info()"
   ]
  },
  {
   "cell_type": "markdown",
   "id": "b7ba46a6",
   "metadata": {},
   "source": [
    "### 2.1.2 Definindo as variáveis como numéricas ou categóricas."
   ]
  },
  {
   "cell_type": "code",
   "execution_count": 11,
   "id": "9f2d3ef6",
   "metadata": {},
   "outputs": [],
   "source": [
    "cat = 'category'\n",
    "df = df.astype({\n",
    "    'car_ID': cat,\n",
    "    'symboling': cat,\n",
    "    'CarName': cat,\n",
    "    'fueltype': cat,\n",
    "    'aspiration': cat,\n",
    "    'doornumber': cat,\n",
    "    'carbody': cat,\n",
    "    'drivewheel': cat,\n",
    "    'enginelocation': cat,    \n",
    "    'enginetype': cat,\n",
    "    'cylindernumber': cat,    \n",
    "    'fuelsystem': cat,    \n",
    "})"
   ]
  },
  {
   "cell_type": "code",
   "execution_count": 12,
   "id": "42b1b8c4",
   "metadata": {},
   "outputs": [
    {
     "name": "stdout",
     "output_type": "stream",
     "text": [
      "<class 'pandas.core.frame.DataFrame'>\n",
      "RangeIndex: 205 entries, 0 to 204\n",
      "Data columns (total 26 columns):\n",
      " #   Column            Non-Null Count  Dtype   \n",
      "---  ------            --------------  -----   \n",
      " 0   car_ID            205 non-null    category\n",
      " 1   symboling         205 non-null    category\n",
      " 2   CarName           205 non-null    category\n",
      " 3   fueltype          205 non-null    category\n",
      " 4   aspiration        205 non-null    category\n",
      " 5   doornumber        205 non-null    category\n",
      " 6   carbody           205 non-null    category\n",
      " 7   drivewheel        205 non-null    category\n",
      " 8   enginelocation    205 non-null    category\n",
      " 9   wheelbase         205 non-null    float64 \n",
      " 10  carlength         205 non-null    float64 \n",
      " 11  carwidth          205 non-null    float64 \n",
      " 12  carheight         205 non-null    float64 \n",
      " 13  curbweight        205 non-null    int64   \n",
      " 14  enginetype        205 non-null    category\n",
      " 15  cylindernumber    205 non-null    category\n",
      " 16  enginesize        205 non-null    int64   \n",
      " 17  fuelsystem        205 non-null    category\n",
      " 18  boreratio         205 non-null    float64 \n",
      " 19  stroke            205 non-null    float64 \n",
      " 20  compressionratio  205 non-null    float64 \n",
      " 21  horsepower        205 non-null    int64   \n",
      " 22  peakrpm           205 non-null    int64   \n",
      " 23  citympg           205 non-null    int64   \n",
      " 24  highwaympg        205 non-null    int64   \n",
      " 25  price             205 non-null    float64 \n",
      "dtypes: category(12), float64(8), int64(6)\n",
      "memory usage: 42.4 KB\n"
     ]
    }
   ],
   "source": [
    "df.info()"
   ]
  },
  {
   "cell_type": "markdown",
   "id": "5d0968c1",
   "metadata": {},
   "source": [
    "### 2.1.3 Plotando histogramas das variáveis numéricas."
   ]
  },
  {
   "cell_type": "code",
   "execution_count": 17,
   "id": "a7d95a46",
   "metadata": {},
   "outputs": [
    {
     "data": {
      "image/png": "[encoded data removed]",
      "text/plain": [
       "<Figure size 1440x1800 with 15 Axes>"
      ]
     },
     "metadata": {
      "needs_background": "light"
     },
     "output_type": "display_data"
    }
   ],
   "source": [
    "numeric_vars = sorted(tuple(df.select_dtypes(include='number').columns))[::-1]\n",
    "\n",
    "nv_index = len(numeric_vars) - 1 \n",
    "\n",
    "ncols = 3\n",
    "nrows = int(np.ceil(len(numeric_vars)/(1.0 * ncols)))\n",
    "\n",
    "fig, axes = plt.subplots(nrows, ncols, figsize=(20, 25))\n",
    "\n",
    "fig.suptitle('Histogramas das variáveis numéricas', fontsize=20)\n",
    "\n",
    "for lines in axes: #itera nas linhas\n",
    "    for cols in lines: #itera nas colunas dentro das linhas\n",
    "        if nv_index >= 0:  #verifica o indice a ser usado\n",
    "\n",
    "            linha = np.where(axes == lines)[0][0] #pega o index da linha\n",
    "            coluna = np.where(lines == cols)[0][0] #pega o index da coluna\n",
    "\n",
    "            df[numeric_vars[nv_index]].plot.hist(bins=9, \n",
    "            label=numeric_vars[nv_index].replace('_', ' ').title(), \n",
    "            subplots=True, legend=True, ax=axes[linha, coluna])\n",
    "      \n",
    "            nv_index -= 1\n",
    "\n",
    "        else:\n",
    "            plt.axis('off')\n",
    "\n",
    "\n",
    "plt.show()"
   ]
  },
  {
   "cell_type": "markdown",
   "id": "f4b47ba9",
   "metadata": {},
   "source": [
    "### 2.1.4 Boxplot das variáveis numéricas"
   ]
  },
  {
   "cell_type": "code",
   "execution_count": 14,
   "id": "3dedb21d",
   "metadata": {},
   "outputs": [
    {
     "data": {
      "image/png": "[encoded data removed]",
      "text/plain": [
       "<Figure size 1440x2016 with 15 Axes>"
      ]
     },
     "metadata": {
      "needs_background": "light"
     },
     "output_type": "display_data"
    }
   ],
   "source": [
    "nv_index = len(numeric_vars) - 1 \n",
    "\n",
    "ncols = 3\n",
    "nrows = int(np.ceil(len(numeric_vars)/(1.0 * ncols)))\n",
    "\n",
    "fig, axes = plt.subplots(nrows, ncols, figsize=(20, 28))\n",
    "\n",
    "fig.suptitle('Boxplot das variáveis numéricas', fontsize=20)\n",
    "\n",
    "for lines in axes: #itera nas linhas\n",
    "    for cols in lines: #itera nas colunas dentro das linhas\n",
    "        if nv_index >= 0:  #verifica o indice a ser usado\n",
    "            \n",
    "            linha = np.where(axes == lines)[0][0] #pega o index da linha\n",
    "            coluna = np.where(lines == cols)[0][0] #pega o index da coluna\n",
    "\n",
    "            df.boxplot(column=numeric_vars[nv_index], grid=False,\n",
    "            vert=True, showmeans=True, ax=axes[linha, coluna])\n",
    "            \n",
    "            nv_index -= 1\n",
    "        else:\n",
    "            plt.axis('off')\n",
    "\n",
    "plt.show()"
   ]
  },
  {
   "cell_type": "markdown",
   "id": "9513183a",
   "metadata": {},
   "source": [
    "### 2.1.5 Executando o teste de normalidade pelo método Kolmogorov-Smirnov com as variáveis numéricas"
   ]
  },
  {
   "cell_type": "code",
   "execution_count": 15,
   "id": "05dae700",
   "metadata": {},
   "outputs": [
    {
     "name": "stdout",
     "output_type": "stream",
     "text": [
      "{'Variavel': 'stroke', 'Estatistica KS': 0.9808598328088434, 'p-valor': 0.0}\n",
      "{'Variavel': 'boreratio', 'Estatistica KS': 0.9944573765569173, 'p-valor': 0.0}\n",
      "{'Variavel': 'compressionratio', 'Estatistica KS': 0.9999999999987201, 'p-valor': 0.0}\n",
      "{'Variavel': 'wheelbase', 'Estatistica KS': 1.0, 'p-valor': 0.0}\n",
      "{'Variavel': 'price', 'Estatistica KS': 1.0, 'p-valor': 0.0}\n",
      "{'Variavel': 'peakrpm', 'Estatistica KS': 1.0, 'p-valor': 0.0}\n",
      "{'Variavel': 'horsepower', 'Estatistica KS': 1.0, 'p-valor': 0.0}\n",
      "{'Variavel': 'highwaympg', 'Estatistica KS': 1.0, 'p-valor': 0.0}\n",
      "{'Variavel': 'enginesize', 'Estatistica KS': 1.0, 'p-valor': 0.0}\n",
      "{'Variavel': 'curbweight', 'Estatistica KS': 1.0, 'p-valor': 0.0}\n",
      "{'Variavel': 'citympg', 'Estatistica KS': 1.0, 'p-valor': 0.0}\n",
      "{'Variavel': 'carwidth', 'Estatistica KS': 1.0, 'p-valor': 0.0}\n",
      "{'Variavel': 'carlength', 'Estatistica KS': 1.0, 'p-valor': 0.0}\n",
      "{'Variavel': 'carheight', 'Estatistica KS': 1.0, 'p-valor': 0.0}\n"
     ]
    }
   ],
   "source": [
    "nrm_test = list()\n",
    "\n",
    "for var in numeric_vars:\n",
    "    ks, pvalue = kstest(df[var], cdf = 'norm')\n",
    "    nrm_test.append({\n",
    "        'Variavel': var,\n",
    "        'Estatistica KS': ks,\n",
    "        'p-valor': pvalue\n",
    "    })\n",
    "    \n",
    "print(*sorted(nrm_test, key=lambda x: x['Estatistica KS']), sep='\\n')"
   ]
  },
  {
   "cell_type": "markdown",
   "id": "05e25645",
   "metadata": {},
   "source": [
    "### 2.1.6 Resultados da exploratória:\n",
    "\n",
    "- Não existem distribuições que sequer possam chegar perto de serem normais nas variáveis numéricas. Visto os histogramas e os testes Kolmogorov.\n",
    "- Existe presença de outliers em algumas variáveis, entretanto estes dizem respeito à características técnicas dos veículos registrados e são aceitáveis, eliminando a possibilidade de erro de digitação ou corrompimento dos dados."
   ]
  },
  {
   "cell_type": "markdown",
   "id": "e72ac6d3",
   "metadata": {},
   "source": [
    "## 2.2 Analisando variáveis categóricas"
   ]
  },
  {
   "cell_type": "markdown",
   "id": "ca937925",
   "metadata": {},
   "source": [
    "### 2.2.1 Criando um array com as variáveis categóricas"
   ]
  },
  {
   "cell_type": "code",
   "execution_count": 22,
   "id": "7d33c4bc",
   "metadata": {},
   "outputs": [
    {
     "name": "stdout",
     "output_type": "stream",
     "text": [
      "['symboling', 'fueltype', 'fuelsystem', 'enginetype', 'enginelocation', 'drivewheel', 'doornumber', 'cylindernumber', 'carbody', 'car_ID', 'aspiration', 'CarName']\n"
     ]
    }
   ],
   "source": [
    "category_variables = sorted(tuple(df.select_dtypes(include='category').columns))[::-1]\n",
    "print(category_variables)"
   ]
  },
  {
   "cell_type": "markdown",
   "id": "d15a5847",
   "metadata": {},
   "source": [
    "### 2.2.2 Verificando a quantidade e as categorias possíveis em cada variável."
   ]
  },
  {
   "cell_type": "code",
   "execution_count": 35,
   "id": "61d4bde6",
   "metadata": {},
   "outputs": [
    {
     "name": "stdout",
     "output_type": "stream",
     "text": [
      "{'Variavel': 'car_ID', 'Qtd': 205, 'Cats': (1, 2, 3, 4, 5, 6, 7, 8, 9, 10, 11, 12, 13, 14, 15)}\n",
      "{'Variavel': 'CarName', 'Qtd': 147, 'Cats': ('alfa-romero giulia', 'alfa-romero stelvio', 'alfa-romero Quadrifoglio', 'audi 100 ls', 'audi 100ls', 'audi fox', 'audi 5000', 'audi 4000', 'audi 5000s (diesel)', 'bmw 320i', 'bmw x1', 'bmw x3', 'bmw z4', 'bmw x4', 'bmw x5')}\n",
      "{'Variavel': 'fuelsystem', 'Qtd': 8, 'Cats': ('mpfi', '2bbl', 'mfi', '1bbl', 'spfi', '4bbl', 'idi', 'spdi')}\n",
      "{'Variavel': 'enginetype', 'Qtd': 7, 'Cats': ('dohc', 'ohcv', 'ohc', 'l', 'rotor', 'ohcf', 'dohcv')}\n",
      "{'Variavel': 'cylindernumber', 'Qtd': 7, 'Cats': (4, 6, 5, 3, 12, 2, 8)}\n",
      "{'Variavel': 'symboling', 'Qtd': 6, 'Cats': (3, 1, 2, 0, -1, -2)}\n",
      "{'Variavel': 'carbody', 'Qtd': 5, 'Cats': ('convertible', 'hatchback', 'sedan', 'wagon', 'hardtop')}\n",
      "{'Variavel': 'drivewheel', 'Qtd': 3, 'Cats': ('rwd', 'fwd', '4wd')}\n",
      "{'Variavel': 'fueltype', 'Qtd': 2, 'Cats': ('gas', 'diesel')}\n",
      "{'Variavel': 'enginelocation', 'Qtd': 2, 'Cats': ('front', 'rear')}\n",
      "{'Variavel': 'doornumber', 'Qtd': 2, 'Cats': (2, 4)}\n",
      "{'Variavel': 'aspiration', 'Qtd': 2, 'Cats': ('std', 'turbo')}\n"
     ]
    }
   ],
   "source": [
    "cat_info = list()\n",
    "for cat in category_variables:\n",
    "    cat_info.append({\n",
    "        'Variavel': cat,\n",
    "        'Qtd': len(df[cat].unique()),\n",
    "        'Cats': tuple(df[cat].unique())[:15]\n",
    "    })\n",
    "\n",
    "print(*sorted(cat_info, key=lambda x: x['Qtd'], reverse=True), sep='\\n')"
   ]
  },
  {
   "cell_type": "markdown",
   "id": "458f018d",
   "metadata": {},
   "source": [
    "- A variável car_ID é apenas uma identificação do registro do carro no banco de dados, podendo ser desprezada.\n",
    "- CarName possui 147 registros distintos que consistem em montadora + modelo. Sendo extremamente interessante separá-los para que a análise de montadora e modelo possa ser feita separadamente pelo modelo preditivo de preço.\n",
    "- Demais variáveis dizem respeito à características técnicas dos carros."
   ]
  },
  {
   "cell_type": "markdown",
   "id": "8b39a061",
   "metadata": {},
   "source": [
    "### 2.2.3 Analisando variável CarName"
   ]
  },
  {
   "cell_type": "code",
   "execution_count": 41,
   "id": "0453d653",
   "metadata": {},
   "outputs": [
    {
     "name": "stdout",
     "output_type": "stream",
     "text": [
      "Nissan versa, alfa-romero Quadrifoglio, alfa-romero giulia, alfa-romero stelvio, audi 100 ls, audi 100ls, audi 4000, audi 5000, audi 5000s (diesel), audi fox, bmw 320i, bmw x1, bmw x3, bmw x4, bmw x5, bmw z4, buick century, buick century luxus (sw), buick century special, buick electra 225 custom, buick opel isuzu deluxe, buick regal sport coupe (turbo), buick skyhawk, buick skylark, chevrolet impala, chevrolet monte carlo, chevrolet vega 2300, dodge challenger se, dodge colt (sw), dodge colt hardtop, dodge coronet custom, dodge coronet custom (sw), dodge d200, dodge dart custom, dodge monaco (sw), dodge rampage, honda accord, honda accord cvcc, honda accord lx, honda civic, honda civic (auto), honda civic 1300, honda civic 1500 gl, honda civic cvcc, honda prelude, isuzu D-Max , isuzu D-Max V-Cross, isuzu MU-X, jaguar xf, jaguar xj, jaguar xk, maxda glc deluxe, maxda rx3, mazda 626, mazda glc, mazda glc 4, mazda glc custom, mazda glc custom l, mazda glc deluxe, mazda rx-4, mazda rx-7 gs, mazda rx2 coupe, mercury cougar, mitsubishi g4, mitsubishi lancer, mitsubishi mirage, mitsubishi mirage g4, mitsubishi montero, mitsubishi outlander, mitsubishi pajero, nissan clipper, nissan dayz, nissan fuga, nissan gt-r, nissan juke, nissan kicks, nissan latio, nissan leaf, nissan note, nissan nv200, nissan otti, nissan rogue, nissan teana, nissan titan, peugeot 304, peugeot 504, peugeot 504 (sw), peugeot 505s turbo diesel, peugeot 604sl, plymouth cricket, plymouth duster, plymouth fury gran sedan, plymouth fury iii, plymouth satellite custom (sw), plymouth valiant, porcshce panamera, porsche boxter, porsche cayenne, porsche macan, renault 12tl, renault 5 gtl, saab 99e, saab 99gle, saab 99le, subaru, subaru baja, subaru brz, subaru dl, subaru r1, subaru r2, subaru trezia, subaru tribeca, toyota carina, toyota celica gt, toyota celica gt liftback, toyota corolla, toyota corolla 1200, toyota corolla 1600 (sw), toyota corolla liftback, toyota corolla tercel, toyota corona, toyota corona hardtop, toyota corona liftback, toyota corona mark ii, toyota cressida, toyota mark ii, toyota starlet, toyota tercel, toyouta tercel, vokswagen rabbit, volkswagen 1131 deluxe sedan, volkswagen 411 (sw), volkswagen dasher, volkswagen model 111, volkswagen rabbit, volkswagen rabbit custom, volkswagen super beetle, volkswagen type 3, volvo 144ea, volvo 145e (sw), volvo 244dl, volvo 245, volvo 246, volvo 264gl, volvo diesel, vw dasher, vw rabbit\n"
     ]
    }
   ],
   "source": [
    "print(*sorted(tuple(df['CarName'].unique())), sep=', ')"
   ]
  },
  {
   "cell_type": "markdown",
   "id": "16889604",
   "metadata": {},
   "source": [
    "# 3.0 Processamento dos dados"
   ]
  },
  {
   "cell_type": "markdown",
   "id": "31bd46b5",
   "metadata": {},
   "source": [
    "## 3.1 Criando um DataFrame vazio para receber dados processados"
   ]
  },
  {
   "cell_type": "code",
   "execution_count": 42,
   "id": "0b8e37ee",
   "metadata": {},
   "outputs": [],
   "source": [
    "dfProc = pd.DataFrame()"
   ]
  },
  {
   "cell_type": "markdown",
   "id": "0f83c987",
   "metadata": {},
   "source": [
    "## 3.2 Processando variáveis categóricas"
   ]
  },
  {
   "cell_type": "markdown",
   "id": "5d27bcde",
   "metadata": {},
   "source": [
    "### 3.2.1 CarName"
   ]
  },
  {
   "cell_type": "markdown",
   "id": "3404d67a",
   "metadata": {},
   "source": [
    "- Se faz necessário separar o nome das montadoras dos modelos criando duas variáveis distintas a partir de uma."
   ]
  },
  {
   "cell_type": "code",
   "execution_count": 79,
   "id": "9199524b",
   "metadata": {},
   "outputs": [],
   "source": [
    "#Definindo uma função para pegar o nome das montadoras.\n",
    "def brand_getter(car_name):\n",
    "    return car_name.split()[0].title()\n",
    "\n",
    "\n",
    "#Definindo uma função para pegar o modelo dos veículos.\n",
    "def model_getter(car_name):\n",
    "    return '' + ' '.join(car_name.split()[1:]).title()\n",
    "\n",
    "#Criando um DataFrame para receber apenas as novas features.\n",
    "CarNames = pd.DataFrame()\n",
    "\n",
    "#Preenchendo as duas colunas do DataFrame criado\n",
    "CarNames['brand'] = df['CarName'].apply(brand_getter)\n",
    "CarNames['model'] = df['CarName'].apply(model_getter)\n",
    "\n",
    "#Corrigindo nomes de montadoras digitados errados\n",
    "CarNames['brand'].replace({\n",
    "    'Alfa-Romero': 'Alfa-Romeo',\n",
    "    'Maxda': 'Mazda',\n",
    "    'Vokswagen': 'Volkswagen',\n",
    "    'Porcshce': 'Porsche',\n",
    "    'Toyouta' : 'Toyota',\n",
    "    'Vw': 'Volkswagen'\n",
    "}, inplace=True)\n",
    "\n",
    "#Corrigindo nome de Modelos\n",
    "CarNames['model'].replace({\n",
    "    '100 Ls': '100Ls'\n",
    "}, inplace=True)\n",
    "\n"
   ]
  },
  {
   "cell_type": "code",
   "execution_count": null,
   "id": "2e3a2542",
   "metadata": {},
   "outputs": [],
   "source": []
  }
 ],
 "metadata": {
  "kernelspec": {
   "display_name": "Python 3 (ipykernel)",
   "language": "python",
   "name": "python3"
  },
  "language_info": {
   "codemirror_mode": {
    "name": "ipython",
    "version": 3
   },
   "file_extension": ".py",
   "mimetype": "text/x-python",
   "name": "python",
   "nbconvert_exporter": "python",
   "pygments_lexer": "ipython3",
   "version": "3.9.12"
  }
 },
 "nbformat": 4,
 "nbformat_minor": 5
}
